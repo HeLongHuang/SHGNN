{
 "cells": [
  {
   "cell_type": "code",
   "execution_count": 1,
   "id": "064e2002",
   "metadata": {},
   "outputs": [
    {
     "name": "stderr",
     "output_type": "stream",
     "text": [
      "Using backend: pytorch\n"
     ]
    }
   ],
   "source": [
    "import os\n",
    "os.environ[\"CUDA_VISIBLE_DEVICES\"] = \"0\"\n",
    "\n",
    "import torch\n",
    "import numpy as np\n",
    "\n",
    "from PIL import Image\n",
    "from PIL import ImageStat\n",
    "from PIL import ImageOps\n",
    "from torch_geometric.data import Data\n",
    "from skimage.measure import regionprops\n",
    "from histocartography.utils import download_example_data\n",
    "from histocartography.preprocessing import (\n",
    "    NucleiExtractor,\n",
    "    DeepFeatureExtractor,\n",
    "    KNNGraphBuilder\n",
    ")\n",
    "from histocartography.preprocessing import (\n",
    "    ColorMergedSuperpixelExtractor,\n",
    "    DeepFeatureExtractor,\n",
    "    RAGGraphBuilder\n",
    ")\n",
    "import warnings\n",
    "warnings.filterwarnings('ignore')\n",
    "\n",
    "from histocartography.visualization import OverlayGraphVisualization\n",
    "visualizer = OverlayGraphVisualization()"
   ]
  },
  {
   "cell_type": "markdown",
   "id": "36fa869e",
   "metadata": {},
   "source": [
    "# Encapsulate CRCS dataset"
   ]
  },
  {
   "cell_type": "code",
   "execution_count": 2,
   "id": "8b3b0b07",
   "metadata": {},
   "outputs": [
    {
     "name": "stdout",
     "output_type": "stream",
     "text": [
      "File already downloaded.\n"
     ]
    }
   ],
   "source": [
    "nuclei_detector = NucleiExtractor()\n",
    "feature_extractor_for_cell = DeepFeatureExtractor(\n",
    "        architecture='resnet34',\n",
    "        patch_size=72,\n",
    "        resize_size=224\n",
    "    )\n",
    "knn_graph_builder = KNNGraphBuilder(k=5, thresh=50, add_loc_feats=True)"
   ]
  },
  {
   "cell_type": "code",
   "execution_count": 3,
   "id": "4feb02a3",
   "metadata": {},
   "outputs": [],
   "source": [
    "def return_cell_graph(image):\n",
    " \n",
    "    image = np.array(image)\n",
    "    nuclei_map, nuclei_centroids = nuclei_detector.process(image)\n",
    "    \n",
    "    image_size = (nuclei_map.shape[1], nuclei_map.shape[0])  # (x, y)\n",
    "\n",
    "    features = feature_extractor_for_cell.process(image, nuclei_map)\n",
    "    \n",
    "    graph = knn_graph_builder.process(nuclei_map, features)\n",
    "    \n",
    "    canvas = visualizer.process(image, graph, instance_map=nuclei_map)   # image对象\n",
    "#     canvas.show()\n",
    "    \n",
    "    return nuclei_map, nuclei_centroids, features,canvas"
   ]
  },
  {
   "cell_type": "code",
   "execution_count": 4,
   "id": "d29b5d00",
   "metadata": {},
   "outputs": [],
   "source": [
    "superpixel_detector_1 = ColorMergedSuperpixelExtractor(\n",
    "        nr_superpixels=100,\n",
    "        compactness=20,\n",
    "        blur_kernel_size=1,\n",
    "        threshold=0.001,\n",
    "    )\n",
    "superpixel_detector_2 = ColorMergedSuperpixelExtractor(\n",
    "        nr_superpixels=200,\n",
    "        compactness=20,\n",
    "        blur_kernel_size=1,\n",
    "        threshold=0.001,\n",
    "    )\n",
    "superpixel_detector_3 = ColorMergedSuperpixelExtractor(\n",
    "        nr_superpixels=300,\n",
    "        compactness=20,\n",
    "        blur_kernel_size=1,\n",
    "        threshold=0.001,\n",
    "    )\n",
    "\n",
    "feature_extractor_for_tissue = DeepFeatureExtractor(\n",
    "        architecture='resnet34',\n",
    "        patch_size=144,\n",
    "        resize_size=224\n",
    "    )\n",
    "tissue_graph_builder = RAGGraphBuilder(add_loc_feats=True)"
   ]
  },
  {
   "cell_type": "code",
   "execution_count": 5,
   "id": "e000a635",
   "metadata": {},
   "outputs": [],
   "source": [
    "def return_tissue_graph_1(image):\n",
    "    \n",
    "    image = np.array(image)\n",
    "    \n",
    "    superpixels, _ = superpixel_detector_1.process(image)\n",
    "    \n",
    "    regions = regionprops(superpixels)\n",
    "    centroids = np.empty((len(regions), 2))\n",
    "    for i, region in enumerate(regions):\n",
    "        center_y, center_x = region.centroid  # (y, x)\n",
    "        center_x = int(round(center_x))\n",
    "        center_y = int(round(center_y))\n",
    "        centroids[i, 0] = center_x\n",
    "        centroids[i, 1] = center_y\n",
    "    \n",
    "    features = feature_extractor_for_tissue.process(image, superpixels)\n",
    "    \n",
    "    graph = tissue_graph_builder.process(superpixels, features)\n",
    "    \n",
    "    canvas = visualizer.process(image, graph, instance_map=superpixels)\n",
    "#     canvas.show()\n",
    "    return superpixels,centroids,features,canvas\n",
    "\n",
    "\n",
    "def return_tissue_graph_2(image):\n",
    "    image = np.array(image)\n",
    "    \n",
    "    superpixels, _ = superpixel_detector_2.process(image)\n",
    "    \n",
    "    regions = regionprops(superpixels)\n",
    "    centroids = np.empty((len(regions), 2))\n",
    "    for i, region in enumerate(regions):\n",
    "        center_y, center_x = region.centroid  # (y, x)\n",
    "        center_x = int(round(center_x))\n",
    "        center_y = int(round(center_y))\n",
    "        centroids[i, 0] = center_x\n",
    "        centroids[i, 1] = center_y\n",
    "    \n",
    "    features = feature_extractor_for_tissue.process(image, superpixels)\n",
    "    \n",
    "    graph = tissue_graph_builder.process(superpixels, features)\n",
    "    \n",
    "    canvas = visualizer.process(image, graph, instance_map=superpixels)\n",
    "\n",
    "    return superpixels,centroids,features,canvas\n",
    "\n",
    "def return_tissue_graph_3(image):\n",
    "    \n",
    "    image = np.array(image)\n",
    "    \n",
    "    superpixels, _ = superpixel_detector_3.process(image)\n",
    "    \n",
    "    regions = regionprops(superpixels)\n",
    "    centroids = np.empty((len(regions), 2))\n",
    "    for i, region in enumerate(regions):\n",
    "        center_y, center_x = region.centroid  # (y, x)\n",
    "        center_x = int(round(center_x))\n",
    "        center_y = int(round(center_y))\n",
    "        centroids[i, 0] = center_x\n",
    "        centroids[i, 1] = center_y\n",
    "    \n",
    "    features = feature_extractor_for_tissue.process(image, superpixels)\n",
    "    \n",
    "    graph = tissue_graph_builder.process(superpixels, features)\n",
    "   \n",
    "    canvas = visualizer.process(image, graph, instance_map=superpixels)\n",
    "\n",
    "    return superpixels,centroids,features,canvas"
   ]
  },
  {
   "cell_type": "code",
   "execution_count": 6,
   "id": "11445a39",
   "metadata": {},
   "outputs": [],
   "source": [
    "from histocartography.preprocessing import (\n",
    "    VahadaneStainNormalizer,         # stain normalizer\n",
    "    NucleiExtractor,                 # nuclei detector \n",
    "    DeepFeatureExtractor,            # feature extractor \n",
    "    KNNGraphBuilder,                 # kNN graph builder\n",
    "    ColorMergedSuperpixelExtractor,  # tissue detector\n",
    "    DeepFeatureExtractor,            # feature extractor\n",
    "    RAGGraphBuilder,                 # build graph\n",
    "    AssignmnentMatrixBuilder         # assignment matrix \n",
    ")\n",
    "assignment_matrix_builder = AssignmnentMatrixBuilder()\n",
    "def return_assignment_matrix(nuclei_centroid,tissue_map):\n",
    "    assignment_matrix = assignment_matrix_builder.process(nuclei_centroid, tissue_map)\n",
    "    return assignment_matrix"
   ]
  },
  {
   "cell_type": "code",
   "execution_count": 7,
   "id": "28f13eef",
   "metadata": {},
   "outputs": [],
   "source": [
    "# test for one picture\n",
    "image_path = \"../image_name.png\"\n",
    "image = Image.open(image_path).convert(\"RGB\")"
   ]
  },
  {
   "cell_type": "code",
   "execution_count": 8,
   "id": "f16d407f",
   "metadata": {},
   "outputs": [
    {
     "name": "stderr",
     "output_type": "stream",
     "text": [
      "Patch-level nuclei detection: 100%|█████████████████████████████████████████████████████████████████████████████████████| 1/1 [00:00<00:00,  1.73it/s]\n"
     ]
    }
   ],
   "source": [
    "nuclei_map, nuclei_centroids, features ,canvas = return_cell_graph(image)\n",
    "superpixels_1, centroids_tissue_1, tissue_features_1 ,tissue_canvas_1 = return_tissue_graph_1(image)\n",
    "superpixels_2, centroids_tissue_2, tissue_features_2 ,tissue_canvas_2 = return_tissue_graph_2(image)\n",
    "superpixels_3, centroids_tissue_3, tissue_features_3 ,tissue_canvas_3 = return_tissue_graph_3(image)\n",
    "assignment_matrix_1 = return_assignment_matrix(nuclei_centroids,superpixels_1)\n",
    "assignment_matrix_2 = return_assignment_matrix(nuclei_centroids,superpixels_2)\n",
    "assignment_matrix_3 = return_assignment_matrix(nuclei_centroids,superpixels_3)"
   ]
  },
  {
   "cell_type": "code",
   "execution_count": 9,
   "id": "a12c21ed",
   "metadata": {},
   "outputs": [],
   "source": [
    "pyg_data = Data(\n",
    "    x_cell = features,\n",
    "    x_tissue_1 = tissue_features_1,\n",
    "    x_tissue_2 = tissue_features_2,\n",
    "    x_tissue_3 = tissue_features_3,\n",
    "    assignment_matrix_1 = torch.tensor(assignment_matrix_1),\n",
    "    assignment_matrix_2 = torch.tensor(assignment_matrix_2),\n",
    "    assignment_matrix_3 = torch.tensor(assignment_matrix_3),\n",
    "    centroids_cell = torch.tensor(nuclei_centroids).to(torch.float32),\n",
    "    centroids_tissue_1 = torch.tensor(centroids_tissue_1).to(torch.float32),\n",
    "    centroids_tissue_2 = torch.tensor(centroids_tissue_2).to(torch.float32),\n",
    "    centroids_tissue_3 = torch.tensor(centroids_tissue_3).to(torch.float32),\n",
    "    label = 2\n",
    ")"
   ]
  },
  {
   "cell_type": "code",
   "execution_count": 10,
   "id": "b90b7021",
   "metadata": {},
   "outputs": [
    {
     "data": {
      "text/plain": [
       "Data(assignment_matrix_1=[193, 66], assignment_matrix_2=[193, 142], assignment_matrix_3=[193, 207], centroids_cell=[193, 2], centroids_tissue_1=[66, 2], centroids_tissue_2=[142, 2], centroids_tissue_3=[207, 2], label=2, x_cell=[193, 512], x_tissue_1=[66, 512], x_tissue_2=[142, 512], x_tissue_3=[207, 512])"
      ]
     },
     "execution_count": 10,
     "metadata": {},
     "output_type": "execute_result"
    }
   ],
   "source": [
    "pyg_data"
   ]
  },
  {
   "cell_type": "code",
   "execution_count": null,
   "id": "e99991a2",
   "metadata": {},
   "outputs": [],
   "source": []
  },
  {
   "cell_type": "markdown",
   "id": "c8dade18",
   "metadata": {},
   "source": [
    "# Encapsulate BRACS dataset"
   ]
  },
  {
   "cell_type": "code",
   "execution_count": 11,
   "id": "9bed045d",
   "metadata": {
    "scrolled": true
   },
   "outputs": [
    {
     "name": "stdout",
     "output_type": "stream",
     "text": [
      "File already downloaded.\n"
     ]
    }
   ],
   "source": [
    "nuclei_detector = NucleiExtractor()\n",
    "feature_extractor_for_cell = DeepFeatureExtractor(\n",
    "        architecture='resnet34',\n",
    "        patch_size=72,\n",
    "        resize_size=224\n",
    "    )\n",
    "knn_graph_builder = KNNGraphBuilder(k=5, thresh=50, add_loc_feats=True)"
   ]
  },
  {
   "cell_type": "code",
   "execution_count": 12,
   "id": "e42d44b7",
   "metadata": {},
   "outputs": [],
   "source": [
    "def return_cell_graph(image):\n",
    " \n",
    "    image = np.array(image)\n",
    "    nuclei_map, nuclei_centroids = nuclei_detector.process(image)\n",
    "    \n",
    "    image_size = (nuclei_map.shape[1], nuclei_map.shape[0])  # (x, y)\n",
    "\n",
    "    features = feature_extractor_for_cell.process(image, nuclei_map)\n",
    "    \n",
    "    graph = knn_graph_builder.process(nuclei_map, features)\n",
    "    \n",
    "    canvas = visualizer.process(image, graph, instance_map=nuclei_map)   # image对象\n",
    "#     canvas.show()\n",
    "    \n",
    "    return nuclei_map, nuclei_centroids, features,canvas"
   ]
  },
  {
   "cell_type": "code",
   "execution_count": 13,
   "id": "54067067",
   "metadata": {},
   "outputs": [],
   "source": [
    "superpixel_detector_1 = ColorMergedSuperpixelExtractor(\n",
    "        nr_superpixels=100,\n",
    "        compactness=20,\n",
    "        blur_kernel_size=1,\n",
    "        threshold=0.001,\n",
    "    )\n",
    "superpixel_detector_2 = ColorMergedSuperpixelExtractor(\n",
    "        nr_superpixels=400,\n",
    "        compactness=20,\n",
    "        blur_kernel_size=1,\n",
    "        threshold=0.001,\n",
    "    )\n",
    "superpixel_detector_3 = ColorMergedSuperpixelExtractor(\n",
    "        nr_superpixels=700,\n",
    "        compactness=20,\n",
    "        blur_kernel_size=1,\n",
    "        threshold=0.001,\n",
    "    )\n",
    "\n",
    "feature_extractor_for_tissue = DeepFeatureExtractor(\n",
    "        architecture='resnet34',\n",
    "        patch_size=144,\n",
    "        resize_size=224\n",
    "    )\n",
    "tissue_graph_builder = RAGGraphBuilder(add_loc_feats=True)"
   ]
  },
  {
   "cell_type": "code",
   "execution_count": 14,
   "id": "8b50753e",
   "metadata": {},
   "outputs": [],
   "source": [
    "def return_tissue_graph_1(image):\n",
    "    \n",
    "    image = np.array(image)\n",
    "    \n",
    "    superpixels, _ = superpixel_detector_1.process(image)\n",
    "    \n",
    "    regions = regionprops(superpixels)\n",
    "    centroids = np.empty((len(regions), 2))\n",
    "    for i, region in enumerate(regions):\n",
    "        center_y, center_x = region.centroid  # (y, x)\n",
    "        center_x = int(round(center_x))\n",
    "        center_y = int(round(center_y))\n",
    "        centroids[i, 0] = center_x\n",
    "        centroids[i, 1] = center_y\n",
    "    \n",
    "    features = feature_extractor_for_tissue.process(image, superpixels)\n",
    "    \n",
    "    graph = tissue_graph_builder.process(superpixels, features)\n",
    "    \n",
    "    canvas = visualizer.process(image, graph, instance_map=superpixels)\n",
    "#     canvas.show()\n",
    "    return superpixels,centroids,features,canvas\n",
    "\n",
    "\n",
    "def return_tissue_graph_2(image):\n",
    "    image = np.array(image)\n",
    "    \n",
    "    superpixels, _ = superpixel_detector_2.process(image)\n",
    "    \n",
    "    regions = regionprops(superpixels)\n",
    "    centroids = np.empty((len(regions), 2))\n",
    "    for i, region in enumerate(regions):\n",
    "        center_y, center_x = region.centroid  # (y, x)\n",
    "        center_x = int(round(center_x))\n",
    "        center_y = int(round(center_y))\n",
    "        centroids[i, 0] = center_x\n",
    "        centroids[i, 1] = center_y\n",
    "    \n",
    "    features = feature_extractor_for_tissue.process(image, superpixels)\n",
    "    \n",
    "    graph = tissue_graph_builder.process(superpixels, features)\n",
    "    \n",
    "    canvas = visualizer.process(image, graph, instance_map=superpixels)\n",
    "\n",
    "    return superpixels,centroids,features,canvas\n",
    "\n",
    "def return_tissue_graph_3(image):\n",
    "    \n",
    "    image = np.array(image)\n",
    "    \n",
    "    superpixels, _ = superpixel_detector_3.process(image)\n",
    "    \n",
    "    regions = regionprops(superpixels)\n",
    "    centroids = np.empty((len(regions), 2))\n",
    "    for i, region in enumerate(regions):\n",
    "        center_y, center_x = region.centroid  # (y, x)\n",
    "        center_x = int(round(center_x))\n",
    "        center_y = int(round(center_y))\n",
    "        centroids[i, 0] = center_x\n",
    "        centroids[i, 1] = center_y\n",
    "    \n",
    "    features = feature_extractor_for_tissue.process(image, superpixels)\n",
    "    \n",
    "    graph = tissue_graph_builder.process(superpixels, features)\n",
    "   \n",
    "    canvas = visualizer.process(image, graph, instance_map=superpixels)\n",
    "\n",
    "    return superpixels,centroids,features,canvas"
   ]
  },
  {
   "cell_type": "code",
   "execution_count": 15,
   "id": "e5cc0e15",
   "metadata": {},
   "outputs": [],
   "source": [
    "from histocartography.preprocessing import (\n",
    "    VahadaneStainNormalizer,         # stain normalizer\n",
    "    NucleiExtractor,                 # nuclei detector \n",
    "    DeepFeatureExtractor,            # feature extractor \n",
    "    KNNGraphBuilder,                 # kNN graph builder\n",
    "    ColorMergedSuperpixelExtractor,  # tissue detector\n",
    "    DeepFeatureExtractor,            # feature extractor\n",
    "    RAGGraphBuilder,                 # build graph\n",
    "    AssignmnentMatrixBuilder         # assignment matrix \n",
    ")\n",
    "assignment_matrix_builder = AssignmnentMatrixBuilder()\n",
    "def return_assignment_matrix(nuclei_centroid,tissue_map):\n",
    "    assignment_matrix = assignment_matrix_builder.process(nuclei_centroid, tissue_map)\n",
    "    return assignment_matrix"
   ]
  },
  {
   "cell_type": "code",
   "execution_count": 16,
   "id": "2c299819",
   "metadata": {},
   "outputs": [],
   "source": [
    "# test for one picture\n",
    "image_path = \"../BRACS_1231_N_28.png\"\n",
    "image = Image.open(image_path).convert(\"RGB\")"
   ]
  },
  {
   "cell_type": "code",
   "execution_count": 17,
   "id": "f3be80f6",
   "metadata": {
    "scrolled": true
   },
   "outputs": [
    {
     "name": "stderr",
     "output_type": "stream",
     "text": [
      "Patch-level nuclei detection: 100%|█████████████████████████████████████████████████████████████████████████████████████| 3/3 [00:01<00:00,  2.20it/s]\n"
     ]
    }
   ],
   "source": [
    "nuclei_map, nuclei_centroids, features ,canvas = return_cell_graph(image)\n",
    "superpixels_1, centroids_tissue_1, tissue_features_1 ,tissue_canvas_1 = return_tissue_graph_1(image)\n",
    "superpixels_2, centroids_tissue_2, tissue_features_2 ,tissue_canvas_2 = return_tissue_graph_2(image)\n",
    "superpixels_3, centroids_tissue_3, tissue_features_3 ,tissue_canvas_3 = return_tissue_graph_3(image)\n",
    "assignment_matrix_1 = return_assignment_matrix(nuclei_centroids,superpixels_1)\n",
    "assignment_matrix_2 = return_assignment_matrix(nuclei_centroids,superpixels_2)\n",
    "assignment_matrix_3 = return_assignment_matrix(nuclei_centroids,superpixels_3)"
   ]
  },
  {
   "cell_type": "code",
   "execution_count": 18,
   "id": "d9e94c2d",
   "metadata": {},
   "outputs": [],
   "source": [
    "pyg_data = Data(\n",
    "    x_cell = features,\n",
    "    x_tissue_1 = tissue_features_1,\n",
    "    x_tissue_2 = tissue_features_2,\n",
    "    x_tissue_3 = tissue_features_3,\n",
    "    assignment_matrix_1 = torch.tensor(assignment_matrix_1),\n",
    "    assignment_matrix_2 = torch.tensor(assignment_matrix_2),\n",
    "    assignment_matrix_3 = torch.tensor(assignment_matrix_3),\n",
    "    centroids_cell = torch.tensor(nuclei_centroids).to(torch.float32),\n",
    "    centroids_tissue_1 = torch.tensor(centroids_tissue_1).to(torch.float32),\n",
    "    centroids_tissue_2 = torch.tensor(centroids_tissue_2).to(torch.float32),\n",
    "    centroids_tissue_3 = torch.tensor(centroids_tissue_3).to(torch.float32),\n",
    "    label = 0\n",
    ")"
   ]
  },
  {
   "cell_type": "code",
   "execution_count": 19,
   "id": "2d711bf2",
   "metadata": {},
   "outputs": [
    {
     "data": {
      "text/plain": [
       "Data(assignment_matrix_1=[597, 68], assignment_matrix_2=[597, 323], assignment_matrix_3=[597, 590], centroids_cell=[597, 2], centroids_tissue_1=[68, 2], centroids_tissue_2=[323, 2], centroids_tissue_3=[590, 2], label=0, x_cell=[597, 512], x_tissue_1=[68, 512], x_tissue_2=[323, 512], x_tissue_3=[590, 512])"
      ]
     },
     "execution_count": 19,
     "metadata": {},
     "output_type": "execute_result"
    }
   ],
   "source": [
    "pyg_data"
   ]
  },
  {
   "cell_type": "code",
   "execution_count": null,
   "id": "48d06047",
   "metadata": {},
   "outputs": [],
   "source": []
  }
 ],
 "metadata": {
  "kernelspec": {
   "display_name": "Python 3",
   "language": "python",
   "name": "python3"
  },
  "language_info": {
   "codemirror_mode": {
    "name": "ipython",
    "version": 3
   },
   "file_extension": ".py",
   "mimetype": "text/x-python",
   "name": "python",
   "nbconvert_exporter": "python",
   "pygments_lexer": "ipython3",
   "version": "3.8.10"
  }
 },
 "nbformat": 4,
 "nbformat_minor": 5
}
